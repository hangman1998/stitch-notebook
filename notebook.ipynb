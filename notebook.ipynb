{
 "cells": [
  {
   "cell_type": "code",
   "execution_count": 59,
   "metadata": {},
   "outputs": [],
   "source": [
    "import requests\n",
    "from bs4 import BeautifulSoup\n",
    "from PIL import Image\n",
    "import numpy as np\n",
    "from sklearn.cluster import KMeans"
   ]
  },
  {
   "attachments": {},
   "cell_type": "markdown",
   "metadata": {},
   "source": [
    "## Getting DMC colors from web"
   ]
  },
  {
   "cell_type": "code",
   "execution_count": 60,
   "metadata": {},
   "outputs": [],
   "source": [
    "# scrape dmc colors\n",
    "response = requests.get('https://dmc.crazyartzone.com')\n",
    "soup = BeautifulSoup(response.content, \"html.parser\")"
   ]
  },
  {
   "cell_type": "code",
   "execution_count": 63,
   "metadata": {},
   "outputs": [],
   "source": [
    "table_rows = soup.find_all(\"tr\")\n",
    "table_rows = list(filter(lambda x: len(x) == 6,map(lambda r: r.get_text().strip().split('\\n'),table_rows)))\n",
    "\n",
    "# dmc colors dictionary\n",
    "dmc = {rows[0]: [int(rows[3]), int(rows[4]), int(rows[5]), rows[1], rows[0]] for rows in table_rows}"
   ]
  },
  {
   "attachments": {},
   "cell_type": "markdown",
   "metadata": {},
   "source": [
    "## Utilities"
   ]
  },
  {
   "cell_type": "code",
   "execution_count": 69,
   "metadata": {},
   "outputs": [],
   "source": [
    "def reduce_color_count(image, desired_colors):\n",
    "    image_array = np.array(image)\n",
    "    pixel_values = image_array.reshape(-1, 3)\n",
    "\n",
    "    # Apply K-means clustering\n",
    "    kmeans = KMeans(n_clusters=desired_colors, n_init='auto')\n",
    "    kmeans.fit(pixel_values)\n",
    "\n",
    "    # Replace pixel values with cluster centers\n",
    "    quantized_colors = kmeans.cluster_centers_[kmeans.labels_]\n",
    "    \n",
    "    # Reshape the quantized colors array back to the original shape\n",
    "    quantized_image_array = quantized_colors.reshape(image_array.shape)\n",
    "\n",
    "    # Create a PIL image from the quantized colors array\n",
    "    quantized_image = Image.fromarray(quantized_image_array.astype('uint8'))\n",
    "\n",
    "    return quantized_image\n",
    "\n",
    "def euclidean_distance_corrected(c1, c2):\n",
    "    (r1, g1, b1, _, _) = c1\n",
    "    (r2, g2, b2) = c2\n",
    "    # return (r1-r2)**2 + (g1-g2)**2 + (b1-b2)**2\n",
    "    return 2 * ((r1-r2)**2) + 4*((g1-g2)**2) + 3*((b1-b2)**2)\n",
    "\n",
    "def get_dmc(colour):\n",
    "    temp_dist = 99999999\n",
    "    code = ''\n",
    "    for key in dmc:\n",
    "        dist = euclidean_distance_corrected(dmc[key], colour)\n",
    "        if dist < temp_dist:\n",
    "            code = key\n",
    "            temp_dist = dist\n",
    "    return dmc[code]\n",
    "        \n",
    "def convert2dmc( colour):\n",
    "    dmc_item = get_dmc(colour)\n",
    "    return (dmc_item[0], dmc_item[1], dmc_item[2])"
   ]
  },
  {
   "cell_type": "code",
   "execution_count": 70,
   "metadata": {},
   "outputs": [],
   "source": [
    "class SVG:    \n",
    "    xml = ''\n",
    "    def __init__(self, black_white = False, minor_lines = False, symbols = True):\n",
    "        self.black_white = black_white\n",
    "        self.minor_lines = minor_lines\n",
    "        self.symbols = symbols\n",
    "        \n",
    "    def get_rgb_from_dmc_item(self, item):\n",
    "        return 'rgb('+str(item[0])+','+str(item[1])+','+str(item[2])+');'\n",
    "\n",
    "    def gen_glyph(self, num, x, y, s = 1):\n",
    "        x = str(x)\n",
    "        y = str(y)\n",
    "        scale = 'scale(' + str(s) + ')'\n",
    "        if num == 0:\n",
    "            return \"<path class='glyph' d='M4 4L16 16' transform='translate(\"+x+\" \"+y+\") \"+scale+\"'/>\" # backslash\n",
    "        elif num == 1:\n",
    "            return \"<path class='glyph' d='M4 16L16 4M4 10L 16 10' transform='translate(\"+x+\" \"+y+\") \"+scale+\"'/>\" # forward slash\n",
    "        elif num == 2:\n",
    "            return \"<path class='glyph' d='M7 7L7 13 13 13 13 7Z' fill='black' transform='translate(\"+x+\" \"+y+\") \"+scale+\"'/>\" # little square, filled black\n",
    "        elif num == 3:\n",
    "            return \"<path class='glyph' d='M4 4L10 16L16 4 Z' transform='translate(\"+x+\" \"+y+\") \"+scale+\"'/>\" # triangle, upside down\n",
    "        elif num == 4:\n",
    "            return \"<path class='glyph' d='M4 4L16 16M4 16 L16 4' transform='translate(\"+x+\" \"+y+\") \"+scale+\"'/>\" # diagonal cross\n",
    "        elif num == 5:\n",
    "            return \"<path class='glyph' d='M4 4L4 16 16 16 16 4Z' transform='translate(\"+x+\" \"+y+\") \"+scale+\"'/>\" # square\n",
    "        elif num == 6:\n",
    "            return \"<path class='glyph' d='M4 4L10 16L16 4 Z' fill='black' transform='translate(\"+x+\" \"+y+\") \"+scale+\"'/>\" # triangle, upside down, filled black\n",
    "        elif num == 7:\n",
    "            return \"<path class='glyph' d='M10 4L6 10 10 16 14 10Z' fill='black' transform='translate(\"+x+\" \"+y+\") \"+scale+\"'/>\" # diamond, filled black\n",
    "        elif num == 8:\n",
    "            return \"<path class='glyph' d='M8 8L8 12 12 12 12 8Z' transform='translate(\"+x+\" \"+y+\") \"+scale+\"'/>\" # little square\n",
    "        elif num == 9:\n",
    "            return \"<path class='glyph' d='M4 4L16 16M4 16 L16 4M10 4L10 16M4 10L16 10' transform='translate(\"+x+\" \"+y+\") \"+scale+\"'/>\" # 8 way cross\n",
    "        elif num == 10:\n",
    "            return \"<path class='glyph' d='M4 4L4 16 16 16 16 4Z' fill='black' transform='translate(\"+x+\" \"+y+\") \"+scale+\"'/>\" # square, filled black\n",
    "        else:\n",
    "            return ''\n",
    "\n",
    "    def add_rect(self, palette, index, x, y, size):\n",
    "        glyph_scale = size / 20.0\n",
    "        fill = 'fill:rgb(255,255,255);' if self.black_white else 'fill:'+self.get_rgb_from_dmc_item(palette[index])\n",
    "        stroke = 'stroke:rgb(20,20,20);stroke-width:1;' if self.minor_lines else 'stroke:none;'\n",
    "        sym = self.gen_glyph(index, x, y, glyph_scale) if self.symbols else ''\n",
    "        self.xml += '<rect x=\"'+str(x)+'\" y=\"'+str(y)+'\" width=\"'+str(size)+'\" height=\"'+str(size)+'\" style=\"'+fill+stroke+'\"/>' + sym\n",
    "        \n",
    "    def prep_for_drawing(self, width, height):\n",
    "        self.xml += '<svg xmlns=\"http://www.w3.org/2000/svg\" width=\"'+str(width)+'\" height=\"'+str(height)+'\" style =\"fill:none;\">'\n",
    "        self.xml += '<style>.svg_txt{font-size:20px;}.glyph{stroke:#000000;stroke-width:1;stroke:1;}</style>'\n",
    "    \n",
    "    def mid_arrows(self, size, width, height):\n",
    "        h = str(size/2)\n",
    "        f = str(size)\n",
    "        self.xml += \"<path d=\\\"M0 \"+h+\"L\"+f+\" \"+h+\"M\"+h+\" 0L\"+f+\" \"+h+\" \"+h+\" \"+f+\"\\\" stroke=\\\"black\\\" stroke-width=\\\"2\\\" fill=\\\"none\\\" transform='translate(0 \" + str(height/2) + \")'/>\"\n",
    "        self.xml += \"<path d=\\\"M\"+h+\" 0L\"+h+\" \"+f+\" M\"+f+\" \"+h+\"L\"+h+\" \"+f+\" 0 \"+h+\"\\\" stroke=\\\"black\\\" stroke-width=\\\"2\\\" fill=\\\"none\\\" transform='translate(\" + str(width/2) + \" 0)'/>\"\n",
    "    \n",
    "    def major_gridlines(self, size, width, height):\n",
    "        for x in range(size + size * 10, width, size * 10):\n",
    "            self.xml += \"<line x1=\\\"\" + str(x) + \"\\\" y1=\\\"\" + str(size) + \"\\\" x2=\\\"\" + str(x) + \"\\\" y2=\\\"\" + str(height) + \"\\\" style=\\\"stroke:black;stroke-width:2\\\" />\"\n",
    "        for y in range(size + size * 10, height, size * 10):\n",
    "            self.xml += \"<line x1=\\\"\" + str(size) + \"\\\" y1=\\\"\" + str(y) + \"\\\" x2=\\\"\" + str(width) + \"\\\" y2=\\\"\" + str(y) + \"\\\" style=\\\"stroke:black;stroke-width:2\\\" />\"\n",
    "            \n",
    "    def add_key_colour(self, x, y, size, index, colour):\n",
    "        # key\n",
    "        glyph_scale = size / 20.0\n",
    "        fill = 'fill:rgb(255,255,255);' if self.black_white else 'fill:rgb('+str(colour[0])+', '+str(colour[1])+', '+str(colour[2])+');'\n",
    "        stroke = 'stroke:rgb(20,20,20);stroke-width:1;' if self.minor_lines else 'stroke:none;'\n",
    "        sym = self.gen_glyph(index, x, y, glyph_scale) if self.symbols else ''\n",
    "        self.xml += '<rect x=\"0\" y=\"'+str(y)+'\" width=\"'+str(size)+'\" height=\"'+str(size)+'\" style=\"'+fill+stroke+'\"/>' + sym\n",
    "        # colour name\n",
    "        self.xml += '<rect x=\"'+str(size)+'\" y=\"'+str(y)+'\" width=\"'+str(size* 10)+'\" height=\"'+str(size)+'\" style=\"fill:rgb(255,255,255);stroke:black;stroke-width:1;\"/>'\n",
    "        self.xml += '<text x = \"' + str(x + size * 1.5) + '\" y = \"' + str(y + size / 2.0) + '\" fill=\"black\">' + colour[3] + '</text>'\n",
    "        # colour code\n",
    "        self.xml += '<rect x=\"'+str(size*11)+'\" y=\"'+str(y)+'\" width=\"'+str(size* 2)+'\" height=\"'+str(size)+'\" style=\"fill:rgb(255,255,255);stroke:black;stroke-width:1;\"/>'\n",
    "        self.xml += '<text x = \"' + str(size* 11 + (size/2.0)) + '\" y = \"' + str(y + size / 2.0) + '\" fill=\"black\">' + colour[4] + '</text>'\n",
    "        \n",
    "    def save(self, filename):\n",
    "        self.xml += '</svg>'\n",
    "        f = open(filename,'w')\n",
    "        f.write(self.xml)\n",
    "        f.close()\n",
    "        "
   ]
  },
  {
   "attachments": {},
   "cell_type": "markdown",
   "metadata": {},
   "source": [
    "## Loading the image"
   ]
  },
  {
   "cell_type": "code",
   "execution_count": 71,
   "metadata": {},
   "outputs": [],
   "source": [
    "input_file_name = 'olive.jpg'    # input file name, has to be a jpg\n",
    "num_colors = 16                  # number of colors to use in the pattern\n",
    "stitches_count_x = 100           # stitch count, number of stitches in x axis\n",
    "stitches_count_y = 100           # stitch count, number of stitches in x axis\n",
    "\n",
    "border_px = 54\n",
    "stitch_h = 25\n",
    "stitch_w = 25\n",
    "inner_box_offset = 5\n",
    "im = Image.open(input_file_name)\n",
    "assert im.width == 2 * border_px + stitches_count_x * stitch_w\n",
    "assert im.height == 2 * border_px + stitches_count_y * stitch_h"
   ]
  },
  {
   "attachments": {},
   "cell_type": "markdown",
   "metadata": {},
   "source": [
    "## Pixelating the image into a defined set of colors"
   ]
  },
  {
   "cell_type": "code",
   "execution_count": 72,
   "metadata": {},
   "outputs": [],
   "source": [
    "# removing the borders from the olive image.\n",
    "im = im.crop((border_px,border_px,im.width - border_px,im.height - border_px))"
   ]
  },
  {
   "cell_type": "code",
   "execution_count": 73,
   "metadata": {},
   "outputs": [],
   "source": [
    "# reducing the image to a 100X100 pixel image where each pixel is the average pixel value of a 15X15 box inside every 25X25 stitch box.\n",
    "dmc_image = Image.new('RGB', (stitches_count_x, stitches_count_y))\n",
    "\n",
    "for i in range(stitches_count_x):\n",
    "    for j in range(stitches_count_y):\n",
    "        x1 = i * stitch_w + inner_box_offset # +5 pixel so that the averaging is applied to an inner 15X15 box of every 25X25 box.\n",
    "        y1 = j * stitch_h + inner_box_offset\n",
    "        x2 = (i + 1) * stitch_w - inner_box_offset\n",
    "        y2 = (j + 1) * stitch_h - inner_box_offset\n",
    "        inner_box = im.crop((x1, y1, x2, y2))\n",
    "\n",
    "        # Calculate the average RGB values\n",
    "        average_rgb = (\n",
    "            int(sum([pixel[0] for pixel in inner_box.getdata()]) / (inner_box.height * inner_box.width)),\n",
    "            int(sum([pixel[1] for pixel in inner_box.getdata()]) / (inner_box.height * inner_box.width)),\n",
    "            int(sum([pixel[2] for pixel in inner_box.getdata()]) / (inner_box.height * inner_box.width))\n",
    "        )\n",
    "\n",
    "        # Assign the average RGB value to the corresponding pixel\n",
    "        dmc_image.putpixel((i, j), average_rgb)\n",
    "\n",
    "dmc_image = reduce_color_count(dmc_image,num_colors)\n",
    "dmc_image = dmc_image.convert('P', palette=Image.ADAPTIVE, colors = num_colors)"
   ]
  },
  {
   "cell_type": "code",
   "execution_count": 82,
   "metadata": {},
   "outputs": [],
   "source": [
    "dmc_image.save('olive_pixelated.png')"
   ]
  },
  {
   "cell_type": "code",
   "execution_count": 81,
   "metadata": {},
   "outputs": [
    {
     "data": {
      "image/png": "[encoded data removed]",
      "text/plain": [
       "<PIL.Image.Image image mode=P size=200x200>"
      ]
     },
     "execution_count": 81,
     "metadata": {},
     "output_type": "execute_result"
    }
   ],
   "source": [
    "dmc_image.resize((200,200))"
   ]
  },
  {
   "cell_type": "code",
   "execution_count": 58,
   "metadata": {},
   "outputs": [],
   "source": [
    "x_count = dmc_image.size[0]\n",
    "y_count = dmc_image.size[1]\n",
    "svg_pattern = [[dmc_image.getpixel((x, y)) for x in range(x_count)] for y in range(y_count)]\n",
    "\n",
    "palette = dmc_image.getpalette()\n",
    "svg_palette = [get_dmc((palette[i * 3], palette[i * 3 + 1], palette[i * 3 + 2])) for i in range(num_colors)]\n",
    "\n",
    "\n",
    "def get_neighbors(pos, matrix):\n",
    "    rows = len(matrix)\n",
    "    cols = len(matrix[0]) if rows else 0\n",
    "    width = 1\n",
    "    for i in range(max(0, pos[0] - width), min(rows, pos[0] + width + 1)):\n",
    "        for j in range(max(0, pos[1] - width), min(cols, pos[1] + width + 1)):\n",
    "            if not (i == pos[0] and j == pos[1]):\n",
    "                yield matrix[i][j]\n",
    "    \n",
    "\n",
    "# black_white, minor, symbols    \n",
    "col_sym = SVG(False, True, True)\n",
    "blw_nsy = SVG(True, True, True)\n",
    "col_nsy = SVG(False, False, False)\n",
    "key = SVG(False, True, True)\n",
    "\n",
    "for x in range(0, x_count):\n",
    "    for y in range(0, y_count):\n",
    "        gen = get_neighbors([y, x], svg_pattern)\n",
    "        neighbors = []\n",
    "        for n in gen:\n",
    "            neighbors += [n]\n",
    "        if svg_pattern[y][x] not in neighbors:\n",
    "            mode = max(neighbors, key=neighbors.count)\n",
    "            svg_pattern[y][x] = mode\n",
    "\n",
    "# 8\n",
    "\n",
    "svg_cell_size = 10\n",
    "width = x_count * svg_cell_size\n",
    "height = y_count * svg_cell_size\n",
    "col_sym.prep_for_drawing(width, height)\n",
    "col_sym.mid_arrows(svg_cell_size, width, height)\n",
    "blw_nsy.prep_for_drawing(width, height)\n",
    "blw_nsy.mid_arrows(svg_cell_size, width, height)\n",
    "col_nsy.prep_for_drawing(width, height)\n",
    "x = y = svg_cell_size # to allow drawing of midpoint arrows\n",
    "for row in svg_pattern:\n",
    "    for colour_index in row:\n",
    "        col_sym.add_rect(svg_palette, colour_index, x, y, svg_cell_size)\n",
    "        blw_nsy.add_rect(svg_palette, colour_index, x, y, svg_cell_size)\n",
    "        col_nsy.add_rect(svg_palette, colour_index, x, y, svg_cell_size)\n",
    "        x += svg_cell_size\n",
    "    y += svg_cell_size\n",
    "    x = svg_cell_size\n",
    "blw_nsy.major_gridlines(svg_cell_size, width, height)\n",
    "col_sym.major_gridlines(svg_cell_size, width, height)\n",
    "\n",
    "# 9\n",
    "\n",
    "size = 40\n",
    "key.prep_for_drawing(size * 13, size * len(svg_palette))\n",
    "x = y = 0\n",
    "for i in range(len(svg_palette)):\n",
    "    key.add_key_colour(x, y, size, i, svg_palette[i])\n",
    "    y += size\n",
    "\n",
    "col_sym.save('col_sym.svg')\n",
    "blw_nsy.save('blw_sym.svg')\n",
    "col_nsy.save('col_nsy.svg')\n",
    "key.save('key.svg')"
   ]
  },
  {
   "cell_type": "code",
   "execution_count": null,
   "metadata": {},
   "outputs": [],
   "source": []
  }
 ],
 "metadata": {
  "kernelspec": {
   "display_name": "Python 3",
   "language": "python",
   "name": "python3"
  },
  "language_info": {
   "codemirror_mode": {
    "name": "ipython",
    "version": 3
   },
   "file_extension": ".py",
   "mimetype": "text/x-python",
   "name": "python",
   "nbconvert_exporter": "python",
   "pygments_lexer": "ipython3",
   "version": "3.11.3"
  },
  "orig_nbformat": 4
 },
 "nbformat": 4,
 "nbformat_minor": 2
}
