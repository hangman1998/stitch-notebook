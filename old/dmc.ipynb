{
 "cells": [
  {
   "cell_type": "code",
   "execution_count": null,
   "metadata": {},
   "outputs": [],
   "source": [
    "import requests\n",
    "from bs4 import BeautifulSoup"
   ]
  },
  {
   "attachments": {},
   "cell_type": "markdown",
   "metadata": {},
   "source": [
    "## Getting DMC colors from web"
   ]
  },
  {
   "cell_type": "code",
   "execution_count": null,
   "metadata": {},
   "outputs": [],
   "source": [
    "# scrape dmc colors\n",
    "response = requests.get('https://dmc.crazyartzone.com')\n",
    "soup = BeautifulSoup(response.content, \"html.parser\")"
   ]
  },
  {
   "cell_type": "code",
   "execution_count": null,
   "metadata": {},
   "outputs": [],
   "source": [
    "table_rows = soup.find_all(\"tr\")\n",
    "table_rows = list(filter(lambda x: len(x) == 6,map(lambda r: r.get_text().strip().split('\\n'),table_rows)))\n",
    "\n",
    "# dmc colors dictionary\n",
    "dmc = {rows[0]: [int(rows[3]), int(rows[4]), int(rows[5]), rows[1], rows[0]] for rows in table_rows}"
   ]
  },
  {
   "cell_type": "code",
   "execution_count": null,
   "metadata": {},
   "outputs": [],
   "source": [
    "def euclidean_distance(c1, c2):\n",
    "    (r1, g1, b1, _, _) = c1\n",
    "    (r2, g2, b2) = c2\n",
    "    return 2 * ((r1-r2)**2) + 4*((g1-g2)**2) + 3*((b1-b2)**2)\n",
    "\n",
    "def get_dmc(colour):\n",
    "    temp_dist = 99999999\n",
    "    code = ''\n",
    "    for key in dmc:\n",
    "        dist = euclidean_distance(dmc[key], colour)\n",
    "        if dist < temp_dist:\n",
    "            code = key\n",
    "            temp_dist = dist\n",
    "    return dmc[code]\n",
    "        \n",
    "def convert2dmc( colour):\n",
    "    dmc_item = get_dmc(colour)\n",
    "    return (dmc_item[0], dmc_item[1], dmc_item[2])"
   ]
  }
 ],
 "metadata": {
  "kernelspec": {
   "display_name": "Python 3",
   "language": "python",
   "name": "python3"
  },
  "language_info": {
   "codemirror_mode": {
    "name": "ipython",
    "version": 3
   },
   "file_extension": ".py",
   "mimetype": "text/x-python",
   "name": "python",
   "nbconvert_exporter": "python",
   "pygments_lexer": "ipython3",
   "version": "3.11.3"
  },
  "orig_nbformat": 4
 },
 "nbformat": 4,
 "nbformat_minor": 2
}
